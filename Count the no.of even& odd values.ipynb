{
 "cells": [
  {
   "cell_type": "code",
   "execution_count": 1,
   "id": "0d159eb3",
   "metadata": {},
   "outputs": [],
   "source": [
    "numbers=(1, 2, 3, 4, 5, 6, 7, 8, 9)"
   ]
  },
  {
   "cell_type": "code",
   "execution_count": 2,
   "id": "7a73763c",
   "metadata": {},
   "outputs": [],
   "source": [
    "count_odd=0\n",
    "count_even=0"
   ]
  },
  {
   "cell_type": "code",
   "execution_count": 3,
   "id": "7954114a",
   "metadata": {},
   "outputs": [
    {
     "name": "stdout",
     "output_type": "stream",
     "text": [
      "No.of even numbers: 4\n",
      "No.of odd numbers: 5\n"
     ]
    }
   ],
   "source": [
    "for x in numbers:\n",
    "    if x%2==0:\n",
    "        count_even+=1\n",
    "    else:\n",
    "        count_odd+=1\n",
    "print(\"No.of even numbers:\",count_even)\n",
    "print(\"No.of odd numbers:\",count_odd)"
   ]
  }
 ],
 "metadata": {
  "kernelspec": {
   "display_name": "Python 3 (ipykernel)",
   "language": "python",
   "name": "python3"
  },
  "language_info": {
   "codemirror_mode": {
    "name": "ipython",
    "version": 3
   },
   "file_extension": ".py",
   "mimetype": "text/x-python",
   "name": "python",
   "nbconvert_exporter": "python",
   "pygments_lexer": "ipython3",
   "version": "3.9.7"
  }
 },
 "nbformat": 4,
 "nbformat_minor": 5
}
